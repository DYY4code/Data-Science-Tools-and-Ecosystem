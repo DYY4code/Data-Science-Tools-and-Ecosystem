{
 "cells": [
  {
   "cell_type": "markdown",
   "id": "993307e1",
   "metadata": {},
   "source": [
    "# Data Science Tools and Ecosystem"
   ]
  },
  {
   "cell_type": "markdown",
   "id": "e22c4fb3",
   "metadata": {},
   "source": [
    "|Data Science Tools |\n",
    "|------------------ |\n",
    "|TensorFlow         |\n",
    "|Python             |\n",
    "|Apache Hadoop      |"
   ]
  },
  {
   "cell_type": "markdown",
   "id": "d56fb834",
   "metadata": {},
   "source": [
    "In this notebook, Data ScienceTools and Ecosystem are summarized"
   ]
  },
  {
   "cell_type": "markdown",
   "id": "171ed0a5",
   "metadata": {},
   "source": [
    "**Objectives**:\n",
    "* SQL\n",
    "* JavaScript\n",
    "* Python"
   ]
  },
  {
   "cell_type": "markdown",
   "id": "7b0b72c9",
   "metadata": {},
   "source": [
    "Some of the popular languages that Data Scientists use are: \n",
    "1. R\n",
    "2. Python\n",
    "3. C++"
   ]
  },
  {
   "cell_type": "markdown",
   "id": "50dcf767",
   "metadata": {},
   "source": [
    "Some of the commonly used libraries used by Data Scientists included:\n",
    "1. Pandas \n",
    "2. NumbPy\n",
    "3. Scikit-Learn\n",
    "4. TensorFlow"
   ]
  },
  {
   "cell_type": "markdown",
   "id": "2940fb7b",
   "metadata": {},
   "source": [
    "### Below are a few examples of evaluating arithmetic expressions in Python"
   ]
  },
  {
   "cell_type": "code",
   "execution_count": 4,
   "id": "fa5070a9",
   "metadata": {},
   "outputs": [
    {
     "data": {
      "text/plain": [
       "17"
      ]
     },
     "execution_count": 4,
     "metadata": {},
     "output_type": "execute_result"
    }
   ],
   "source": [
    "(3*4)+5\n"
   ]
  },
  {
   "cell_type": "markdown",
   "id": "65cb41fb",
   "metadata": {},
   "source": [
    "This is simple arithmetic expression to multiply then add integers"
   ]
  },
  {
   "cell_type": "code",
   "execution_count": 10,
   "id": "0398adb5",
   "metadata": {},
   "outputs": [
    {
     "name": "stdout",
     "output_type": "stream",
     "text": [
      "200minutes is equal to 3.3333333333333335\n"
     ]
    }
   ],
   "source": [
    "# convert minutes to hours \n",
    "minutes = 200\n",
    "hours = minutes/60\n",
    "\n",
    "# this will convert 200 minutes to hours by diving by 60\n",
    "# print the result\n",
    "print(f\"{200}minutes is equal to {hours}\")"
   ]
  },
  {
   "cell_type": "code",
   "execution_count": 6,
   "id": "f4b60cae",
   "metadata": {},
   "outputs": [
    {
     "ename": "SyntaxError",
     "evalue": "invalid syntax (771675122.py, line 2)",
     "output_type": "error",
     "traceback": [
      "\u001b[0;36m  Cell \u001b[0;32mIn[6], line 2\u001b[0;36m\u001b[0m\n\u001b[0;31m    minutes = 200 minutes\u001b[0m\n\u001b[0m                  ^\u001b[0m\n\u001b[0;31mSyntaxError\u001b[0m\u001b[0;31m:\u001b[0m invalid syntax\n"
     ]
    }
   ],
   "source": [
    "# convert minutes to hours \n",
    "minutes = 200 minutes\n",
    "hours = minutes/60"
   ]
  },
  {
   "cell_type": "markdown",
   "id": "10420932",
   "metadata": {},
   "source": [
    "## Author\n",
    "Diow"
   ]
  },
  {
   "cell_type": "code",
   "execution_count": null,
   "id": "356dd799",
   "metadata": {},
   "outputs": [],
   "source": []
  }
 ],
 "metadata": {
  "kernelspec": {
   "display_name": "Python 3 (ipykernel)",
   "language": "python",
   "name": "python3"
  },
  "language_info": {
   "codemirror_mode": {
    "name": "ipython",
    "version": 3
   },
   "file_extension": ".py",
   "mimetype": "text/x-python",
   "name": "python",
   "nbconvert_exporter": "python",
   "pygments_lexer": "ipython3",
   "version": "3.11.4"
  }
 },
 "nbformat": 4,
 "nbformat_minor": 5
}
